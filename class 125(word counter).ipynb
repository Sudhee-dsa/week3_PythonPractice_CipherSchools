{
 "cells": [
  {
   "cell_type": "code",
   "execution_count": null,
   "metadata": {},
   "outputs": [],
   "source": [
    "#word counter\n",
    "d={'h':2, 'a':1, 'h':2}\n",
    "print(d)\n",
    "{'h': 2, 'a': 1}\n",
    "def word_counter(s):\n",
    "    count={}\n",
    "    for char in s:\n",
    "        count[char]=s.count(char)\n",
    "    return count\n",
    "print(word_counter(\"isha\"))\n",
    "{'i': 1, 's': 1, 'h': 1, 'a': 1}"
   ]
  }
 ],
 "metadata": {
  "language_info": {
   "name": "python"
  },
  "orig_nbformat": 4
 },
 "nbformat": 4,
 "nbformat_minor": 2
}
