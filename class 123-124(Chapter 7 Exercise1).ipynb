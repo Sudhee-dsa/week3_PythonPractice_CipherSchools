{
 "cells": [
  {
   "cell_type": "code",
   "execution_count": null,
   "metadata": {},
   "outputs": [],
   "source": [
    "# return a dictionary containing cube of numbers from 1 to n\n",
    "\n",
    "# example\n",
    "\n",
    "#cube_finder\n",
    "#(1:1, 2:8, 3:27)\n",
    "def cube(n):\n",
    "    cubes={}\n",
    "    for i in range(1,n+1):\n",
    "        cubes[i]=i**3\n",
    "    return cubes\n",
    "cube(10)\n",
    "print(cube(10))\n",
    "{1: 1, 2: 8, 3: 27, 4: 64, 5: 125, 6: 216, 7: 343, 8: 512, 9: 729, 10: 1000}\n",
    " "
   ]
  }
 ],
 "metadata": {
  "language_info": {
   "name": "python"
  },
  "orig_nbformat": 4
 },
 "nbformat": 4,
 "nbformat_minor": 2
}
