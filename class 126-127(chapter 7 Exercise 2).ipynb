{
 "cells": [
  {
   "cell_type": "code",
   "execution_count": null,
   "metadata": {},
   "outputs": [],
   "source": [
    "users={\n",
    "    'name':'isha'\n",
    "    'age':19\n",
    "    \"fav_movies\":['coco','harry potter']\n",
    "    \"fav_songs\":['song1','song2']\n",
    "}\n",
    "#solution\n",
    "user={}\n",
    "name=input(\"what is your name:\")\n",
    "age=input(\"what is your age:\")\n",
    "fav_movies=input(\"what is your fav movies:\").split(\",\")\n",
    "fav_songs=input(\"what is your fav songs:\").split(\",\")\n",
    "user['name']=name\n",
    "user['age']=age\n",
    "user['fav_movies']=fav_movies\n",
    "user['fav_songs']=fav_songs\n",
    "print(user)\n",
    "what is your name:isha\n",
    "what is your age:19\n",
    "what is your fav movies:coco,harrypotter\n",
    "what is your fav songs:love\n",
    "{'name': 'isha', 'age': '19', 'fav_movies': ['coco', 'harrypotter'], 'fav_songs': ['love']}\n",
    "user={}\n",
    "name=input(\"what is your name:\")\n",
    "age=input(\"what is your age:\")\n",
    "fav_movies=input(\"what is your fav movies:\").split(\",\")\n",
    "fav_songs=input(\"what is your fav songs:\").split(\",\")\n",
    "user['name']=name\n",
    "user['age']=age\n",
    "user['fav_movies']=fav_movies\n",
    "user['fav_songs']=fav_songs\n",
    "for key,value in user.items():\n",
    "    print(f\"{key}:{value}\")\n",
    "what is your name:isha\n",
    "what is your age:19\n",
    "what is your fav movies:coco ,m1\n",
    "what is your fav songs:m2,m3\n",
    "name:isha\n",
    "age:19\n",
    "fav_movies:['coco ', 'm1']\n",
    "fav_songs:['m2', 'm3']"
   ]
  },
  {
   "cell_type": "code",
   "execution_count": null,
   "metadata": {},
   "outputs": [],
   "source": []
  }
 ],
 "metadata": {
  "language_info": {
   "name": "python"
  },
  "orig_nbformat": 4
 },
 "nbformat": 4,
 "nbformat_minor": 2
}
